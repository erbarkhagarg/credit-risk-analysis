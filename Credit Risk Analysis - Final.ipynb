{
 "cells": [
  {
   "cell_type": "markdown",
   "metadata": {},
   "source": [
    "# Import required Libraries & Packages"
   ]
  },
  {
   "cell_type": "code",
   "execution_count": 8,
   "metadata": {},
   "outputs": [],
   "source": [
    "#Import warnings\n",
    "import warnings as wrg\n",
    "wrg.filterwarnings('ignore')"
   ]
  },
  {
   "cell_type": "code",
   "execution_count": 9,
   "metadata": {},
   "outputs": [],
   "source": [
    "#import required libraries\n",
    "import pandas as pd\n",
    "import matplotlib.pyplot as plt\n",
    "import seaborn as sns\n",
    "from datetime import datetime\n",
    "#import sklearn\n",
    "#from sklearn.decomposition import FactorAnalysis"
   ]
  },
  {
   "cell_type": "markdown",
   "metadata": {},
   "source": [
    "# Read the loan data file"
   ]
  },
  {
   "cell_type": "markdown",
   "metadata": {},
   "source": [
    "- Read the loan data file"
   ]
  },
  {
   "cell_type": "code",
   "execution_count": 10,
   "metadata": {},
   "outputs": [
    {
     "name": "stdout",
     "output_type": "stream",
     "text": [
      "(39717, 111)\n"
     ]
    },
    {
     "data": {
      "text/html": [
       "<div>\n",
       "<style scoped>\n",
       "    .dataframe tbody tr th:only-of-type {\n",
       "        vertical-align: middle;\n",
       "    }\n",
       "\n",
       "    .dataframe tbody tr th {\n",
       "        vertical-align: top;\n",
       "    }\n",
       "\n",
       "    .dataframe thead th {\n",
       "        text-align: right;\n",
       "    }\n",
       "</style>\n",
       "<table border=\"1\" class=\"dataframe\">\n",
       "  <thead>\n",
       "    <tr style=\"text-align: right;\">\n",
       "      <th></th>\n",
       "      <th>id</th>\n",
       "      <th>member_id</th>\n",
       "      <th>loan_amnt</th>\n",
       "      <th>funded_amnt</th>\n",
       "      <th>funded_amnt_inv</th>\n",
       "      <th>term</th>\n",
       "      <th>int_rate</th>\n",
       "      <th>installment</th>\n",
       "      <th>grade</th>\n",
       "      <th>sub_grade</th>\n",
       "      <th>...</th>\n",
       "      <th>num_tl_90g_dpd_24m</th>\n",
       "      <th>num_tl_op_past_12m</th>\n",
       "      <th>pct_tl_nvr_dlq</th>\n",
       "      <th>percent_bc_gt_75</th>\n",
       "      <th>pub_rec_bankruptcies</th>\n",
       "      <th>tax_liens</th>\n",
       "      <th>tot_hi_cred_lim</th>\n",
       "      <th>total_bal_ex_mort</th>\n",
       "      <th>total_bc_limit</th>\n",
       "      <th>total_il_high_credit_limit</th>\n",
       "    </tr>\n",
       "  </thead>\n",
       "  <tbody>\n",
       "    <tr>\n",
       "      <th>0</th>\n",
       "      <td>1077501</td>\n",
       "      <td>1296599</td>\n",
       "      <td>5000</td>\n",
       "      <td>5000</td>\n",
       "      <td>4975.0</td>\n",
       "      <td>36 months</td>\n",
       "      <td>10.65%</td>\n",
       "      <td>162.87</td>\n",
       "      <td>B</td>\n",
       "      <td>B2</td>\n",
       "      <td>...</td>\n",
       "      <td>NaN</td>\n",
       "      <td>NaN</td>\n",
       "      <td>NaN</td>\n",
       "      <td>NaN</td>\n",
       "      <td>0.0</td>\n",
       "      <td>0.0</td>\n",
       "      <td>NaN</td>\n",
       "      <td>NaN</td>\n",
       "      <td>NaN</td>\n",
       "      <td>NaN</td>\n",
       "    </tr>\n",
       "    <tr>\n",
       "      <th>1</th>\n",
       "      <td>1077430</td>\n",
       "      <td>1314167</td>\n",
       "      <td>2500</td>\n",
       "      <td>2500</td>\n",
       "      <td>2500.0</td>\n",
       "      <td>60 months</td>\n",
       "      <td>15.27%</td>\n",
       "      <td>59.83</td>\n",
       "      <td>C</td>\n",
       "      <td>C4</td>\n",
       "      <td>...</td>\n",
       "      <td>NaN</td>\n",
       "      <td>NaN</td>\n",
       "      <td>NaN</td>\n",
       "      <td>NaN</td>\n",
       "      <td>0.0</td>\n",
       "      <td>0.0</td>\n",
       "      <td>NaN</td>\n",
       "      <td>NaN</td>\n",
       "      <td>NaN</td>\n",
       "      <td>NaN</td>\n",
       "    </tr>\n",
       "    <tr>\n",
       "      <th>2</th>\n",
       "      <td>1077175</td>\n",
       "      <td>1313524</td>\n",
       "      <td>2400</td>\n",
       "      <td>2400</td>\n",
       "      <td>2400.0</td>\n",
       "      <td>36 months</td>\n",
       "      <td>15.96%</td>\n",
       "      <td>84.33</td>\n",
       "      <td>C</td>\n",
       "      <td>C5</td>\n",
       "      <td>...</td>\n",
       "      <td>NaN</td>\n",
       "      <td>NaN</td>\n",
       "      <td>NaN</td>\n",
       "      <td>NaN</td>\n",
       "      <td>0.0</td>\n",
       "      <td>0.0</td>\n",
       "      <td>NaN</td>\n",
       "      <td>NaN</td>\n",
       "      <td>NaN</td>\n",
       "      <td>NaN</td>\n",
       "    </tr>\n",
       "    <tr>\n",
       "      <th>3</th>\n",
       "      <td>1076863</td>\n",
       "      <td>1277178</td>\n",
       "      <td>10000</td>\n",
       "      <td>10000</td>\n",
       "      <td>10000.0</td>\n",
       "      <td>36 months</td>\n",
       "      <td>13.49%</td>\n",
       "      <td>339.31</td>\n",
       "      <td>C</td>\n",
       "      <td>C1</td>\n",
       "      <td>...</td>\n",
       "      <td>NaN</td>\n",
       "      <td>NaN</td>\n",
       "      <td>NaN</td>\n",
       "      <td>NaN</td>\n",
       "      <td>0.0</td>\n",
       "      <td>0.0</td>\n",
       "      <td>NaN</td>\n",
       "      <td>NaN</td>\n",
       "      <td>NaN</td>\n",
       "      <td>NaN</td>\n",
       "    </tr>\n",
       "    <tr>\n",
       "      <th>4</th>\n",
       "      <td>1075358</td>\n",
       "      <td>1311748</td>\n",
       "      <td>3000</td>\n",
       "      <td>3000</td>\n",
       "      <td>3000.0</td>\n",
       "      <td>60 months</td>\n",
       "      <td>12.69%</td>\n",
       "      <td>67.79</td>\n",
       "      <td>B</td>\n",
       "      <td>B5</td>\n",
       "      <td>...</td>\n",
       "      <td>NaN</td>\n",
       "      <td>NaN</td>\n",
       "      <td>NaN</td>\n",
       "      <td>NaN</td>\n",
       "      <td>0.0</td>\n",
       "      <td>0.0</td>\n",
       "      <td>NaN</td>\n",
       "      <td>NaN</td>\n",
       "      <td>NaN</td>\n",
       "      <td>NaN</td>\n",
       "    </tr>\n",
       "  </tbody>\n",
       "</table>\n",
       "<p>5 rows × 111 columns</p>\n",
       "</div>"
      ],
      "text/plain": [
       "        id  member_id  loan_amnt  funded_amnt  funded_amnt_inv        term  \\\n",
       "0  1077501    1296599       5000         5000           4975.0   36 months   \n",
       "1  1077430    1314167       2500         2500           2500.0   60 months   \n",
       "2  1077175    1313524       2400         2400           2400.0   36 months   \n",
       "3  1076863    1277178      10000        10000          10000.0   36 months   \n",
       "4  1075358    1311748       3000         3000           3000.0   60 months   \n",
       "\n",
       "  int_rate  installment grade sub_grade            ...              \\\n",
       "0   10.65%       162.87     B        B2            ...               \n",
       "1   15.27%        59.83     C        C4            ...               \n",
       "2   15.96%        84.33     C        C5            ...               \n",
       "3   13.49%       339.31     C        C1            ...               \n",
       "4   12.69%        67.79     B        B5            ...               \n",
       "\n",
       "  num_tl_90g_dpd_24m num_tl_op_past_12m pct_tl_nvr_dlq  percent_bc_gt_75  \\\n",
       "0                NaN                NaN            NaN               NaN   \n",
       "1                NaN                NaN            NaN               NaN   \n",
       "2                NaN                NaN            NaN               NaN   \n",
       "3                NaN                NaN            NaN               NaN   \n",
       "4                NaN                NaN            NaN               NaN   \n",
       "\n",
       "  pub_rec_bankruptcies tax_liens tot_hi_cred_lim total_bal_ex_mort  \\\n",
       "0                  0.0       0.0             NaN               NaN   \n",
       "1                  0.0       0.0             NaN               NaN   \n",
       "2                  0.0       0.0             NaN               NaN   \n",
       "3                  0.0       0.0             NaN               NaN   \n",
       "4                  0.0       0.0             NaN               NaN   \n",
       "\n",
       "  total_bc_limit total_il_high_credit_limit  \n",
       "0            NaN                        NaN  \n",
       "1            NaN                        NaN  \n",
       "2            NaN                        NaN  \n",
       "3            NaN                        NaN  \n",
       "4            NaN                        NaN  \n",
       "\n",
       "[5 rows x 111 columns]"
      ]
     },
     "execution_count": 10,
     "metadata": {},
     "output_type": "execute_result"
    }
   ],
   "source": [
    "#Read the csv file\n",
    "loan_data= pd.read_csv(\"loan.csv\", encoding = \"ISO-8859-1\")\n",
    "\n",
    "#Check rows and columns count in the file\n",
    "print(loan_data.shape)\n",
    "\n",
    "loan_data.head()"
   ]
  },
  {
   "cell_type": "markdown",
   "metadata": {},
   "source": [
    "### Cleaning the Data"
   ]
  },
  {
   "cell_type": "code",
   "execution_count": 11,
   "metadata": {},
   "outputs": [
    {
     "data": {
      "text/plain": [
       "id                                  0.000000\n",
       "member_id                           0.000000\n",
       "loan_amnt                           0.000000\n",
       "funded_amnt                         0.000000\n",
       "funded_amnt_inv                     0.000000\n",
       "term                                0.000000\n",
       "int_rate                            0.000000\n",
       "installment                         0.000000\n",
       "grade                               0.000000\n",
       "sub_grade                           0.000000\n",
       "emp_title                           6.191303\n",
       "emp_length                          2.706650\n",
       "home_ownership                      0.000000\n",
       "annual_inc                          0.000000\n",
       "verification_status                 0.000000\n",
       "issue_d                             0.000000\n",
       "loan_status                         0.000000\n",
       "pymnt_plan                          0.000000\n",
       "url                                 0.000000\n",
       "desc                               32.580507\n",
       "purpose                             0.000000\n",
       "title                               0.027696\n",
       "zip_code                            0.000000\n",
       "addr_state                          0.000000\n",
       "dti                                 0.000000\n",
       "delinq_2yrs                         0.000000\n",
       "earliest_cr_line                    0.000000\n",
       "inq_last_6mths                      0.000000\n",
       "mths_since_last_delinq             64.662487\n",
       "mths_since_last_record             92.985372\n",
       "                                     ...    \n",
       "mo_sin_old_rev_tl_op              100.000000\n",
       "mo_sin_rcnt_rev_tl_op             100.000000\n",
       "mo_sin_rcnt_tl                    100.000000\n",
       "mort_acc                          100.000000\n",
       "mths_since_recent_bc              100.000000\n",
       "mths_since_recent_bc_dlq          100.000000\n",
       "mths_since_recent_inq             100.000000\n",
       "mths_since_recent_revol_delinq    100.000000\n",
       "num_accts_ever_120_pd             100.000000\n",
       "num_actv_bc_tl                    100.000000\n",
       "num_actv_rev_tl                   100.000000\n",
       "num_bc_sats                       100.000000\n",
       "num_bc_tl                         100.000000\n",
       "num_il_tl                         100.000000\n",
       "num_op_rev_tl                     100.000000\n",
       "num_rev_accts                     100.000000\n",
       "num_rev_tl_bal_gt_0               100.000000\n",
       "num_sats                          100.000000\n",
       "num_tl_120dpd_2m                  100.000000\n",
       "num_tl_30dpd                      100.000000\n",
       "num_tl_90g_dpd_24m                100.000000\n",
       "num_tl_op_past_12m                100.000000\n",
       "pct_tl_nvr_dlq                    100.000000\n",
       "percent_bc_gt_75                  100.000000\n",
       "pub_rec_bankruptcies                1.754916\n",
       "tax_liens                           0.098195\n",
       "tot_hi_cred_lim                   100.000000\n",
       "total_bal_ex_mort                 100.000000\n",
       "total_bc_limit                    100.000000\n",
       "total_il_high_credit_limit        100.000000\n",
       "Length: 111, dtype: float64"
      ]
     },
     "execution_count": 11,
     "metadata": {},
     "output_type": "execute_result"
    }
   ],
   "source": [
    "#check the percentage of null values in each column\n",
    "loan_data.isnull().sum()/len(loan_data) * 100"
   ]
  },
  {
   "cell_type": "code",
   "execution_count": 12,
   "metadata": {},
   "outputs": [
    {
     "data": {
      "text/plain": [
       "emp_title                      6.191303\n",
       "emp_length                     2.706650\n",
       "desc                          32.580507\n",
       "title                          0.027696\n",
       "mths_since_last_delinq        64.662487\n",
       "mths_since_last_record        92.985372\n",
       "revol_util                     0.125891\n",
       "last_pymnt_d                   0.178765\n",
       "next_pymnt_d                  97.129693\n",
       "last_credit_pull_d             0.005036\n",
       "collections_12_mths_ex_med     0.140998\n",
       "chargeoff_within_12_mths       0.140998\n",
       "pub_rec_bankruptcies           1.754916\n",
       "tax_liens                      0.098195\n",
       "dtype: float64"
      ]
     },
     "execution_count": 12,
     "metadata": {},
     "output_type": "execute_result"
    }
   ],
   "source": [
    "#As we see above, there are a lot of columns where all records are null(100%) \n",
    "# i.e., count of null is same as total count of records 39717\n",
    "# We can drop such columns\n",
    "loan_data.isnull().sum()==39717\n",
    "loan_data_clean = loan_data.loc[:,loan_data.isnull().sum()!=39717]\n",
    "\n",
    "#check column-wise null % again\n",
    "(loan_data_clean.loc[:,loan_data_clean.isnull().sum()!=0].isnull().sum()/len(loan_data_clean))*100"
   ]
  },
  {
   "cell_type": "code",
   "execution_count": 13,
   "metadata": {},
   "outputs": [
    {
     "data": {
      "text/plain": [
       "emp_title                     6.191303\n",
       "emp_length                    2.706650\n",
       "title                         0.027696\n",
       "revol_util                    0.125891\n",
       "last_pymnt_d                  0.178765\n",
       "last_credit_pull_d            0.005036\n",
       "collections_12_mths_ex_med    0.140998\n",
       "chargeoff_within_12_mths      0.140998\n",
       "pub_rec_bankruptcies          1.754916\n",
       "tax_liens                     0.098195\n",
       "dtype: float64"
      ]
     },
     "execution_count": 13,
     "metadata": {},
     "output_type": "execute_result"
    }
   ],
   "source": [
    "#columns mths_since_last_delinq, mths_since_last_record, next_pymnt_d, desc still have high null percentages\n",
    "#So we can drop these as these will influence tru value in analysis\n",
    "loan_data_clean.drop(['mths_since_last_delinq','mths_since_last_record','next_pymnt_d','desc'],axis=1,inplace=True)\n",
    "(loan_data_clean.loc[:,loan_data_clean.isnull().sum()!=0].isnull().sum()/len(loan_data_clean))*100"
   ]
  },
  {
   "cell_type": "code",
   "execution_count": 10,
   "metadata": {},
   "outputs": [
    {
     "name": "stdout",
     "output_type": "stream",
     "text": [
      "<class 'pandas.core.frame.DataFrame'>\n",
      "RangeIndex: 39717 entries, 0 to 39716\n",
      "Data columns (total 53 columns):\n",
      "id                            39717 non-null int64\n",
      "member_id                     39717 non-null int64\n",
      "loan_amnt                     39717 non-null int64\n",
      "funded_amnt                   39717 non-null int64\n",
      "funded_amnt_inv               39717 non-null float64\n",
      "term                          39717 non-null object\n",
      "int_rate                      39717 non-null object\n",
      "installment                   39717 non-null float64\n",
      "grade                         39717 non-null object\n",
      "sub_grade                     39717 non-null object\n",
      "emp_title                     37258 non-null object\n",
      "emp_length                    38642 non-null object\n",
      "home_ownership                39717 non-null object\n",
      "annual_inc                    39717 non-null float64\n",
      "verification_status           39717 non-null object\n",
      "issue_d                       39717 non-null object\n",
      "loan_status                   39717 non-null object\n",
      "pymnt_plan                    39717 non-null object\n",
      "url                           39717 non-null object\n",
      "purpose                       39717 non-null object\n",
      "title                         39706 non-null object\n",
      "zip_code                      39717 non-null object\n",
      "addr_state                    39717 non-null object\n",
      "dti                           39717 non-null float64\n",
      "delinq_2yrs                   39717 non-null int64\n",
      "earliest_cr_line              39717 non-null object\n",
      "inq_last_6mths                39717 non-null int64\n",
      "open_acc                      39717 non-null int64\n",
      "pub_rec                       39717 non-null int64\n",
      "revol_bal                     39717 non-null int64\n",
      "revol_util                    39667 non-null object\n",
      "total_acc                     39717 non-null int64\n",
      "initial_list_status           39717 non-null object\n",
      "out_prncp                     39717 non-null float64\n",
      "out_prncp_inv                 39717 non-null float64\n",
      "total_pymnt                   39717 non-null float64\n",
      "total_pymnt_inv               39717 non-null float64\n",
      "total_rec_prncp               39717 non-null float64\n",
      "total_rec_int                 39717 non-null float64\n",
      "total_rec_late_fee            39717 non-null float64\n",
      "recoveries                    39717 non-null float64\n",
      "collection_recovery_fee       39717 non-null float64\n",
      "last_pymnt_d                  39646 non-null object\n",
      "last_pymnt_amnt               39717 non-null float64\n",
      "last_credit_pull_d            39715 non-null object\n",
      "collections_12_mths_ex_med    39661 non-null float64\n",
      "policy_code                   39717 non-null int64\n",
      "application_type              39717 non-null object\n",
      "acc_now_delinq                39717 non-null int64\n",
      "chargeoff_within_12_mths      39661 non-null float64\n",
      "delinq_amnt                   39717 non-null int64\n",
      "pub_rec_bankruptcies          39020 non-null float64\n",
      "tax_liens                     39678 non-null float64\n",
      "dtypes: float64(18), int64(13), object(22)\n",
      "memory usage: 16.1+ MB\n"
     ]
    }
   ],
   "source": [
    "loan_data_clean.info()"
   ]
  },
  {
   "cell_type": "code",
   "execution_count": 11,
   "metadata": {},
   "outputs": [],
   "source": [
    "#Out of all below are the columns that are irrelevant for our analysis and hence can be dropped\n",
    "#member_id\n",
    "#url\n",
    "\n",
    "#zipcode\n",
    "#initial_list_status\n",
    "#collection_recovery_fee\n",
    "#policy_code\n",
    "#emp_title\n",
    "#title\n",
    "#last_credit_pull_d\n",
    "#earliest_cr_line\n",
    "#total_pymnt\n",
    "#total_rec_int\n",
    "#total_rec_late_fee\n",
    "#total_rec_prncp\n",
    "#last_credit_pull_d\n",
    "#last_pymnt_amnt\n",
    "#last_pymnt_d\n",
    "#collections_12_mths_ex_med\n",
    "#collection_recovery_fee\n",
    "#earliest_cr_line\n",
    "#initial_list_status\n",
    "\n",
    "loan_data_clean.drop(['member_id','url','zip_code','initial_list_status','collection_recovery_fee','policy_code','emp_title','title','last_credit_pull_d','earliest_cr_line','total_pymnt','total_rec_int','total_rec_late_fee','total_rec_prncp','last_credit_pull_d','last_pymnt_amnt','last_pymnt_d','collections_12_mths_ex_med','collection_recovery_fee','earliest_cr_line','initial_list_status',],axis=1,inplace=True)"
   ]
  },
  {
   "cell_type": "code",
   "execution_count": 12,
   "metadata": {},
   "outputs": [
    {
     "data": {
      "text/plain": [
       "n    39717\n",
       "Name: pymnt_plan, dtype: int64"
      ]
     },
     "execution_count": 12,
     "metadata": {},
     "output_type": "execute_result"
    }
   ],
   "source": [
    "loan_data_clean.pymnt_plan.value_counts()"
   ]
  },
  {
   "cell_type": "code",
   "execution_count": 13,
   "metadata": {},
   "outputs": [],
   "source": [
    "#there is just one value in this column, so we can drop this as this would not be of much use in further analysis. \n",
    "loan_data_clean.drop(['pymnt_plan'],axis=1,inplace=True)"
   ]
  },
  {
   "cell_type": "code",
   "execution_count": 14,
   "metadata": {},
   "outputs": [
    {
     "data": {
      "text/plain": [
       "emp_length                  2.706650\n",
       "revol_util                  0.125891\n",
       "chargeoff_within_12_mths    0.140998\n",
       "pub_rec_bankruptcies        1.754916\n",
       "tax_liens                   0.098195\n",
       "dtype: float64"
      ]
     },
     "execution_count": 14,
     "metadata": {},
     "output_type": "execute_result"
    }
   ],
   "source": [
    "(loan_data_clean.loc[:,loan_data_clean.isnull().sum()!=0].isnull().sum()/len(loan_data_clean))*100"
   ]
  },
  {
   "cell_type": "code",
   "execution_count": 15,
   "metadata": {},
   "outputs": [
    {
     "data": {
      "text/plain": [
       "97.29335045446534"
      ]
     },
     "execution_count": 15,
     "metadata": {},
     "output_type": "execute_result"
    }
   ],
   "source": [
    "#For the above attributes the % of nulls is not so high, we con drop records with null values for above\n",
    "#loan_data_clean2 = loan_data_clean.loc[()]\n",
    "#loan_data_clean = loan_data_clean.loc[~(pd.isnull(loan_data_clean.emp_length) | pd.isnull(loan_data_clean.revol_util)| pd.isnull(loan_data_clean.chargeoff_within_12_mths) | pd.isnull(loan_data_clean.pub_rec_bankruptcies) | pd.isnull(loan_data_clean.tax_liens))]\n",
    "loan_data_clean = loan_data_clean.loc[~(pd.isnull(loan_data_clean.emp_length))]\n",
    "(len(loan_data_clean)/len(loan_data) )*100"
   ]
  },
  {
   "cell_type": "code",
   "execution_count": 16,
   "metadata": {},
   "outputs": [],
   "source": [
    "#So we have close to 95% records carrying forward for analysis"
   ]
  },
  {
   "cell_type": "markdown",
   "metadata": {},
   "source": [
    "### Checking for duplicates and uniqueness of non-null values"
   ]
  },
  {
   "cell_type": "code",
   "execution_count": 17,
   "metadata": {},
   "outputs": [
    {
     "data": {
      "text/html": [
       "<div>\n",
       "<style scoped>\n",
       "    .dataframe tbody tr th:only-of-type {\n",
       "        vertical-align: middle;\n",
       "    }\n",
       "\n",
       "    .dataframe tbody tr th {\n",
       "        vertical-align: top;\n",
       "    }\n",
       "\n",
       "    .dataframe thead th {\n",
       "        text-align: right;\n",
       "    }\n",
       "</style>\n",
       "<table border=\"1\" class=\"dataframe\">\n",
       "  <thead>\n",
       "    <tr style=\"text-align: right;\">\n",
       "      <th></th>\n",
       "      <th>id</th>\n",
       "      <th>loan_amnt</th>\n",
       "      <th>funded_amnt</th>\n",
       "      <th>funded_amnt_inv</th>\n",
       "      <th>term</th>\n",
       "      <th>int_rate</th>\n",
       "      <th>installment</th>\n",
       "      <th>grade</th>\n",
       "      <th>sub_grade</th>\n",
       "      <th>emp_length</th>\n",
       "      <th>...</th>\n",
       "      <th>out_prncp</th>\n",
       "      <th>out_prncp_inv</th>\n",
       "      <th>total_pymnt_inv</th>\n",
       "      <th>recoveries</th>\n",
       "      <th>application_type</th>\n",
       "      <th>acc_now_delinq</th>\n",
       "      <th>chargeoff_within_12_mths</th>\n",
       "      <th>delinq_amnt</th>\n",
       "      <th>pub_rec_bankruptcies</th>\n",
       "      <th>tax_liens</th>\n",
       "    </tr>\n",
       "  </thead>\n",
       "  <tbody>\n",
       "  </tbody>\n",
       "</table>\n",
       "<p>0 rows × 35 columns</p>\n",
       "</div>"
      ],
      "text/plain": [
       "Empty DataFrame\n",
       "Columns: [id, loan_amnt, funded_amnt, funded_amnt_inv, term, int_rate, installment, grade, sub_grade, emp_length, home_ownership, annual_inc, verification_status, issue_d, loan_status, purpose, addr_state, dti, delinq_2yrs, inq_last_6mths, open_acc, pub_rec, revol_bal, revol_util, total_acc, out_prncp, out_prncp_inv, total_pymnt_inv, recoveries, application_type, acc_now_delinq, chargeoff_within_12_mths, delinq_amnt, pub_rec_bankruptcies, tax_liens]\n",
       "Index: []\n",
       "\n",
       "[0 rows x 35 columns]"
      ]
     },
     "execution_count": 17,
     "metadata": {},
     "output_type": "execute_result"
    }
   ],
   "source": [
    "#id is the unique value for every record, lets make sure there is no duplicacy in the data\n",
    "#loan_data_clean.loc[\n",
    "loan_data_clean.loc[loan_data_clean.duplicated('id')==True]"
   ]
  },
  {
   "cell_type": "code",
   "execution_count": 18,
   "metadata": {},
   "outputs": [
    {
     "data": {
      "text/plain": [
       "(38642, 35)"
      ]
     },
     "execution_count": 18,
     "metadata": {},
     "output_type": "execute_result"
    }
   ],
   "source": [
    "#So no duplicate loan application, lets do a generic drop duplicates so that there is no duplicate record in the dataset\n",
    "loan_data_clean.drop_duplicates()\n",
    "loan_data_clean.shape"
   ]
  },
  {
   "cell_type": "markdown",
   "metadata": {},
   "source": [
    "### Converting columns to appropriate datatypes & Format"
   ]
  },
  {
   "cell_type": "code",
   "execution_count": 19,
   "metadata": {},
   "outputs": [
    {
     "data": {
      "text/html": [
       "<div>\n",
       "<style scoped>\n",
       "    .dataframe tbody tr th:only-of-type {\n",
       "        vertical-align: middle;\n",
       "    }\n",
       "\n",
       "    .dataframe tbody tr th {\n",
       "        vertical-align: top;\n",
       "    }\n",
       "\n",
       "    .dataframe thead th {\n",
       "        text-align: right;\n",
       "    }\n",
       "</style>\n",
       "<table border=\"1\" class=\"dataframe\">\n",
       "  <thead>\n",
       "    <tr style=\"text-align: right;\">\n",
       "      <th></th>\n",
       "      <th>id</th>\n",
       "      <th>loan_amnt</th>\n",
       "      <th>funded_amnt</th>\n",
       "      <th>funded_amnt_inv</th>\n",
       "      <th>term</th>\n",
       "      <th>int_rate</th>\n",
       "      <th>installment</th>\n",
       "      <th>grade</th>\n",
       "      <th>sub_grade</th>\n",
       "      <th>emp_length</th>\n",
       "      <th>...</th>\n",
       "      <th>out_prncp</th>\n",
       "      <th>out_prncp_inv</th>\n",
       "      <th>total_pymnt_inv</th>\n",
       "      <th>recoveries</th>\n",
       "      <th>application_type</th>\n",
       "      <th>acc_now_delinq</th>\n",
       "      <th>chargeoff_within_12_mths</th>\n",
       "      <th>delinq_amnt</th>\n",
       "      <th>pub_rec_bankruptcies</th>\n",
       "      <th>tax_liens</th>\n",
       "    </tr>\n",
       "  </thead>\n",
       "  <tbody>\n",
       "    <tr>\n",
       "      <th>0</th>\n",
       "      <td>1077501</td>\n",
       "      <td>5000</td>\n",
       "      <td>5000</td>\n",
       "      <td>4975.0</td>\n",
       "      <td>36 months</td>\n",
       "      <td>10.65%</td>\n",
       "      <td>162.87</td>\n",
       "      <td>B</td>\n",
       "      <td>B2</td>\n",
       "      <td>10+ years</td>\n",
       "      <td>...</td>\n",
       "      <td>0.00</td>\n",
       "      <td>0.00</td>\n",
       "      <td>5833.84</td>\n",
       "      <td>0.00</td>\n",
       "      <td>INDIVIDUAL</td>\n",
       "      <td>0</td>\n",
       "      <td>0.0</td>\n",
       "      <td>0</td>\n",
       "      <td>0.0</td>\n",
       "      <td>0.0</td>\n",
       "    </tr>\n",
       "    <tr>\n",
       "      <th>1</th>\n",
       "      <td>1077430</td>\n",
       "      <td>2500</td>\n",
       "      <td>2500</td>\n",
       "      <td>2500.0</td>\n",
       "      <td>60 months</td>\n",
       "      <td>15.27%</td>\n",
       "      <td>59.83</td>\n",
       "      <td>C</td>\n",
       "      <td>C4</td>\n",
       "      <td>&lt; 1 year</td>\n",
       "      <td>...</td>\n",
       "      <td>0.00</td>\n",
       "      <td>0.00</td>\n",
       "      <td>1008.71</td>\n",
       "      <td>117.08</td>\n",
       "      <td>INDIVIDUAL</td>\n",
       "      <td>0</td>\n",
       "      <td>0.0</td>\n",
       "      <td>0</td>\n",
       "      <td>0.0</td>\n",
       "      <td>0.0</td>\n",
       "    </tr>\n",
       "    <tr>\n",
       "      <th>2</th>\n",
       "      <td>1077175</td>\n",
       "      <td>2400</td>\n",
       "      <td>2400</td>\n",
       "      <td>2400.0</td>\n",
       "      <td>36 months</td>\n",
       "      <td>15.96%</td>\n",
       "      <td>84.33</td>\n",
       "      <td>C</td>\n",
       "      <td>C5</td>\n",
       "      <td>10+ years</td>\n",
       "      <td>...</td>\n",
       "      <td>0.00</td>\n",
       "      <td>0.00</td>\n",
       "      <td>3005.67</td>\n",
       "      <td>0.00</td>\n",
       "      <td>INDIVIDUAL</td>\n",
       "      <td>0</td>\n",
       "      <td>0.0</td>\n",
       "      <td>0</td>\n",
       "      <td>0.0</td>\n",
       "      <td>0.0</td>\n",
       "    </tr>\n",
       "    <tr>\n",
       "      <th>3</th>\n",
       "      <td>1076863</td>\n",
       "      <td>10000</td>\n",
       "      <td>10000</td>\n",
       "      <td>10000.0</td>\n",
       "      <td>36 months</td>\n",
       "      <td>13.49%</td>\n",
       "      <td>339.31</td>\n",
       "      <td>C</td>\n",
       "      <td>C1</td>\n",
       "      <td>10+ years</td>\n",
       "      <td>...</td>\n",
       "      <td>0.00</td>\n",
       "      <td>0.00</td>\n",
       "      <td>12231.89</td>\n",
       "      <td>0.00</td>\n",
       "      <td>INDIVIDUAL</td>\n",
       "      <td>0</td>\n",
       "      <td>0.0</td>\n",
       "      <td>0</td>\n",
       "      <td>0.0</td>\n",
       "      <td>0.0</td>\n",
       "    </tr>\n",
       "    <tr>\n",
       "      <th>4</th>\n",
       "      <td>1075358</td>\n",
       "      <td>3000</td>\n",
       "      <td>3000</td>\n",
       "      <td>3000.0</td>\n",
       "      <td>60 months</td>\n",
       "      <td>12.69%</td>\n",
       "      <td>67.79</td>\n",
       "      <td>B</td>\n",
       "      <td>B5</td>\n",
       "      <td>1 year</td>\n",
       "      <td>...</td>\n",
       "      <td>524.06</td>\n",
       "      <td>524.06</td>\n",
       "      <td>3513.33</td>\n",
       "      <td>0.00</td>\n",
       "      <td>INDIVIDUAL</td>\n",
       "      <td>0</td>\n",
       "      <td>0.0</td>\n",
       "      <td>0</td>\n",
       "      <td>0.0</td>\n",
       "      <td>0.0</td>\n",
       "    </tr>\n",
       "  </tbody>\n",
       "</table>\n",
       "<p>5 rows × 35 columns</p>\n",
       "</div>"
      ],
      "text/plain": [
       "        id  loan_amnt  funded_amnt  funded_amnt_inv        term int_rate  \\\n",
       "0  1077501       5000         5000           4975.0   36 months   10.65%   \n",
       "1  1077430       2500         2500           2500.0   60 months   15.27%   \n",
       "2  1077175       2400         2400           2400.0   36 months   15.96%   \n",
       "3  1076863      10000        10000          10000.0   36 months   13.49%   \n",
       "4  1075358       3000         3000           3000.0   60 months   12.69%   \n",
       "\n",
       "   installment grade sub_grade emp_length    ...     out_prncp  out_prncp_inv  \\\n",
       "0       162.87     B        B2  10+ years    ...          0.00           0.00   \n",
       "1        59.83     C        C4   < 1 year    ...          0.00           0.00   \n",
       "2        84.33     C        C5  10+ years    ...          0.00           0.00   \n",
       "3       339.31     C        C1  10+ years    ...          0.00           0.00   \n",
       "4        67.79     B        B5     1 year    ...        524.06         524.06   \n",
       "\n",
       "  total_pymnt_inv recoveries application_type acc_now_delinq  \\\n",
       "0         5833.84       0.00       INDIVIDUAL              0   \n",
       "1         1008.71     117.08       INDIVIDUAL              0   \n",
       "2         3005.67       0.00       INDIVIDUAL              0   \n",
       "3        12231.89       0.00       INDIVIDUAL              0   \n",
       "4         3513.33       0.00       INDIVIDUAL              0   \n",
       "\n",
       "  chargeoff_within_12_mths  delinq_amnt  pub_rec_bankruptcies  tax_liens  \n",
       "0                      0.0            0                   0.0        0.0  \n",
       "1                      0.0            0                   0.0        0.0  \n",
       "2                      0.0            0                   0.0        0.0  \n",
       "3                      0.0            0                   0.0        0.0  \n",
       "4                      0.0            0                   0.0        0.0  \n",
       "\n",
       "[5 rows x 35 columns]"
      ]
     },
     "execution_count": 19,
     "metadata": {},
     "output_type": "execute_result"
    }
   ],
   "source": [
    "loan_data_clean.head()"
   ]
  },
  {
   "cell_type": "code",
   "execution_count": 20,
   "metadata": {},
   "outputs": [
    {
     "data": {
      "text/html": [
       "<div>\n",
       "<style scoped>\n",
       "    .dataframe tbody tr th:only-of-type {\n",
       "        vertical-align: middle;\n",
       "    }\n",
       "\n",
       "    .dataframe tbody tr th {\n",
       "        vertical-align: top;\n",
       "    }\n",
       "\n",
       "    .dataframe thead th {\n",
       "        text-align: right;\n",
       "    }\n",
       "</style>\n",
       "<table border=\"1\" class=\"dataframe\">\n",
       "  <thead>\n",
       "    <tr style=\"text-align: right;\">\n",
       "      <th></th>\n",
       "      <th>id</th>\n",
       "      <th>loan_amnt</th>\n",
       "      <th>funded_amnt</th>\n",
       "      <th>funded_amnt_inv</th>\n",
       "      <th>term</th>\n",
       "      <th>int_rate</th>\n",
       "      <th>installment</th>\n",
       "      <th>grade</th>\n",
       "      <th>sub_grade</th>\n",
       "      <th>emp_length</th>\n",
       "      <th>...</th>\n",
       "      <th>out_prncp</th>\n",
       "      <th>out_prncp_inv</th>\n",
       "      <th>total_pymnt_inv</th>\n",
       "      <th>recoveries</th>\n",
       "      <th>application_type</th>\n",
       "      <th>acc_now_delinq</th>\n",
       "      <th>chargeoff_within_12_mths</th>\n",
       "      <th>delinq_amnt</th>\n",
       "      <th>pub_rec_bankruptcies</th>\n",
       "      <th>tax_liens</th>\n",
       "    </tr>\n",
       "  </thead>\n",
       "  <tbody>\n",
       "    <tr>\n",
       "      <th>0</th>\n",
       "      <td>1077501</td>\n",
       "      <td>5000</td>\n",
       "      <td>5000</td>\n",
       "      <td>4975.0</td>\n",
       "      <td>36</td>\n",
       "      <td>10.65</td>\n",
       "      <td>162.87</td>\n",
       "      <td>B</td>\n",
       "      <td>B2</td>\n",
       "      <td>10+ years</td>\n",
       "      <td>...</td>\n",
       "      <td>0.00</td>\n",
       "      <td>0.00</td>\n",
       "      <td>5833.84</td>\n",
       "      <td>0.00</td>\n",
       "      <td>INDIVIDUAL</td>\n",
       "      <td>0</td>\n",
       "      <td>0.0</td>\n",
       "      <td>0</td>\n",
       "      <td>0.0</td>\n",
       "      <td>0.0</td>\n",
       "    </tr>\n",
       "    <tr>\n",
       "      <th>1</th>\n",
       "      <td>1077430</td>\n",
       "      <td>2500</td>\n",
       "      <td>2500</td>\n",
       "      <td>2500.0</td>\n",
       "      <td>60</td>\n",
       "      <td>15.27</td>\n",
       "      <td>59.83</td>\n",
       "      <td>C</td>\n",
       "      <td>C4</td>\n",
       "      <td>&lt; 1 year</td>\n",
       "      <td>...</td>\n",
       "      <td>0.00</td>\n",
       "      <td>0.00</td>\n",
       "      <td>1008.71</td>\n",
       "      <td>117.08</td>\n",
       "      <td>INDIVIDUAL</td>\n",
       "      <td>0</td>\n",
       "      <td>0.0</td>\n",
       "      <td>0</td>\n",
       "      <td>0.0</td>\n",
       "      <td>0.0</td>\n",
       "    </tr>\n",
       "    <tr>\n",
       "      <th>2</th>\n",
       "      <td>1077175</td>\n",
       "      <td>2400</td>\n",
       "      <td>2400</td>\n",
       "      <td>2400.0</td>\n",
       "      <td>36</td>\n",
       "      <td>15.96</td>\n",
       "      <td>84.33</td>\n",
       "      <td>C</td>\n",
       "      <td>C5</td>\n",
       "      <td>10+ years</td>\n",
       "      <td>...</td>\n",
       "      <td>0.00</td>\n",
       "      <td>0.00</td>\n",
       "      <td>3005.67</td>\n",
       "      <td>0.00</td>\n",
       "      <td>INDIVIDUAL</td>\n",
       "      <td>0</td>\n",
       "      <td>0.0</td>\n",
       "      <td>0</td>\n",
       "      <td>0.0</td>\n",
       "      <td>0.0</td>\n",
       "    </tr>\n",
       "    <tr>\n",
       "      <th>3</th>\n",
       "      <td>1076863</td>\n",
       "      <td>10000</td>\n",
       "      <td>10000</td>\n",
       "      <td>10000.0</td>\n",
       "      <td>36</td>\n",
       "      <td>13.49</td>\n",
       "      <td>339.31</td>\n",
       "      <td>C</td>\n",
       "      <td>C1</td>\n",
       "      <td>10+ years</td>\n",
       "      <td>...</td>\n",
       "      <td>0.00</td>\n",
       "      <td>0.00</td>\n",
       "      <td>12231.89</td>\n",
       "      <td>0.00</td>\n",
       "      <td>INDIVIDUAL</td>\n",
       "      <td>0</td>\n",
       "      <td>0.0</td>\n",
       "      <td>0</td>\n",
       "      <td>0.0</td>\n",
       "      <td>0.0</td>\n",
       "    </tr>\n",
       "    <tr>\n",
       "      <th>4</th>\n",
       "      <td>1075358</td>\n",
       "      <td>3000</td>\n",
       "      <td>3000</td>\n",
       "      <td>3000.0</td>\n",
       "      <td>60</td>\n",
       "      <td>12.69</td>\n",
       "      <td>67.79</td>\n",
       "      <td>B</td>\n",
       "      <td>B5</td>\n",
       "      <td>1 year</td>\n",
       "      <td>...</td>\n",
       "      <td>524.06</td>\n",
       "      <td>524.06</td>\n",
       "      <td>3513.33</td>\n",
       "      <td>0.00</td>\n",
       "      <td>INDIVIDUAL</td>\n",
       "      <td>0</td>\n",
       "      <td>0.0</td>\n",
       "      <td>0</td>\n",
       "      <td>0.0</td>\n",
       "      <td>0.0</td>\n",
       "    </tr>\n",
       "  </tbody>\n",
       "</table>\n",
       "<p>5 rows × 35 columns</p>\n",
       "</div>"
      ],
      "text/plain": [
       "        id  loan_amnt  funded_amnt  funded_amnt_inv  term  int_rate  \\\n",
       "0  1077501       5000         5000           4975.0    36     10.65   \n",
       "1  1077430       2500         2500           2500.0    60     15.27   \n",
       "2  1077175       2400         2400           2400.0    36     15.96   \n",
       "3  1076863      10000        10000          10000.0    36     13.49   \n",
       "4  1075358       3000         3000           3000.0    60     12.69   \n",
       "\n",
       "   installment grade sub_grade emp_length    ...     out_prncp  out_prncp_inv  \\\n",
       "0       162.87     B        B2  10+ years    ...          0.00           0.00   \n",
       "1        59.83     C        C4   < 1 year    ...          0.00           0.00   \n",
       "2        84.33     C        C5  10+ years    ...          0.00           0.00   \n",
       "3       339.31     C        C1  10+ years    ...          0.00           0.00   \n",
       "4        67.79     B        B5     1 year    ...        524.06         524.06   \n",
       "\n",
       "  total_pymnt_inv recoveries application_type acc_now_delinq  \\\n",
       "0         5833.84       0.00       INDIVIDUAL              0   \n",
       "1         1008.71     117.08       INDIVIDUAL              0   \n",
       "2         3005.67       0.00       INDIVIDUAL              0   \n",
       "3        12231.89       0.00       INDIVIDUAL              0   \n",
       "4         3513.33       0.00       INDIVIDUAL              0   \n",
       "\n",
       "  chargeoff_within_12_mths  delinq_amnt  pub_rec_bankruptcies  tax_liens  \n",
       "0                      0.0            0                   0.0        0.0  \n",
       "1                      0.0            0                   0.0        0.0  \n",
       "2                      0.0            0                   0.0        0.0  \n",
       "3                      0.0            0                   0.0        0.0  \n",
       "4                      0.0            0                   0.0        0.0  \n",
       "\n",
       "[5 rows x 35 columns]"
      ]
     },
     "execution_count": 20,
     "metadata": {},
     "output_type": "execute_result"
    }
   ],
   "source": [
    "#storing term as 36,60 etc., removing the string months to standardize term for further use\n",
    "#loan_data_clean3 = loan_data_clean\n",
    "loan_data_clean['term']=loan_data_clean.term.str.replace(' months','').astype(int)\n",
    "\n",
    "#storing int_rate, revol_util without the % symbol\n",
    "loan_data_clean['int_rate']=loan_data_clean.int_rate.str.replace('%','').astype(float)\n",
    "loan_data_clean['revol_util']=loan_data_clean.revol_util.str.replace('%','').astype(float)\n",
    "\n",
    "loan_data_clean.head()"
   ]
  },
  {
   "cell_type": "code",
   "execution_count": 21,
   "metadata": {},
   "outputs": [],
   "source": [
    "#converting date columns to date datatype\n",
    "\n",
    "loan_data_clean['issue_d'] = pd.to_datetime(loan_data_clean.issue_d,format='%b-%y')\n",
    "#loan_data_clean['last_pymnt_d'] = pd.to_datetime(loan_data_clean.last_pymnt_d,format='%b-%y')\n",
    "            "
   ]
  },
  {
   "cell_type": "markdown",
   "metadata": {},
   "source": [
    "- For ease of analyzing, lets create bucket of values for attributes line Annual income, dti, funded amount.\n",
    "- These buckets will ease the analysis when plotting distributions\n",
    "\n",
    "\t\t\t\t\t\t\t"
   ]
  },
  {
   "cell_type": "code",
   "execution_count": 22,
   "metadata": {},
   "outputs": [],
   "source": [
    "#Below is the detail of the Buckets used for each attribute\n",
    "\n",
    "#\t\t\t\t\t\t\tBucket\n",
    "# < annual_inc <= 30000\t\t\t0\n",
    "#30000 < annual_inc <= 35000\t\t1\n",
    "#35000 < annual_inc <= 40000\t\t2\n",
    "#40000 < annual_inc <= 45000\t\t3\n",
    "#45000 < annual_inc <= 55000\t\t4\n",
    "#55000 < annual_inc <= 65000\t\t5\n",
    "#65000 < annual_inc <= 75000\t\t6\n",
    "#75000 < annual_inc <= 90000\t\t7\n",
    "#90000 < annual_inc <= 120000\t8\n",
    "#120000 < annual_inc \t\t\t9\n",
    "#\t\n",
    "#\t\t\t\tBucket\n",
    "#dti <= 4\t\t\t0\n",
    "#4 < dti <= 6\t\t1\n",
    "#6 < dti <= 8\t\t2\n",
    "#8 < dti <= 10\t\t3\n",
    "#10 < dti <= 12\t\t4\n",
    "#12 < dti <= 16\t\t5\n",
    "#16 < dti <= 18\t\t6\n",
    "#18 < dti <= 20\t\t7\n",
    "#20 < dti <= 22\t\t8\n",
    "#dti > 22\t0\n",
    "#\t\t\t\t\t\t\t\tBucket\n",
    "#funded amount<=2000\t\t\t\t\t0\n",
    "#2000 < funded amount <= 4000\t\t1\n",
    "#4000 < funded amount <= 6000\t\t2\n",
    "#6000 < funded amount <= 8000\t\t3\n",
    "#8000 < funded amount <= 10000\t\t4\n",
    "#10000 < funded amount <= 12000\t\t5\n",
    "#12000 < funded amount <= 14000\t\t6\n",
    "#14000 < funded amount <= 16000\t\t7\n",
    "#16000 < funded amount <= 22000\t\t8\n",
    "#funded amount > 22000\t\t\t\t9\n",
    "#"
   ]
  },
  {
   "cell_type": "code",
   "execution_count": 23,
   "metadata": {},
   "outputs": [],
   "source": [
    "# Creating a function to derive bucketing based Anual income\n",
    "\n",
    "def fn_GetAnualIncomeRange(iIncome):\n",
    "    sAnualBucket = '10' # Variable to hold Bucket information\n",
    "    if iIncome <= 30000:\n",
    "        sAnualBucket   = '0'\n",
    "    elif  iIncome > 30000 and iIncome <= 35000:\n",
    "        sAnualBucket   = '1'\n",
    "    elif  iIncome > 35000 and iIncome <= 40000:\n",
    "        sAnualBucket   = '2'\n",
    "    elif  iIncome > 40000 and iIncome <= 45000:\n",
    "        sAnualBucket   = '3'\n",
    "    elif  iIncome > 45000 and iIncome <= 55000:\n",
    "        sAnualBucket   = '4'\n",
    "    elif  iIncome > 55000 and iIncome <= 65000:\n",
    "        sAnualBucket   = '5'\n",
    "    elif  iIncome > 65000 and iIncome <= 75000:\n",
    "        sAnualBucket   = '6'\n",
    "    elif  iIncome > 75000 and iIncome <= 90000:\n",
    "        sAnualBucket   = '7'\n",
    "    elif  iIncome > 90000 and iIncome <= 120000:\n",
    "        sAnualBucket   = '8'\n",
    "    elif  iIncome > 120000:\n",
    "        sAnualBucket   = '9'\n",
    "    return sAnualBucket \n",
    "\n",
    "# Add Anual income bucket column to DataFrame\n",
    "loan_data_clean['Bucket_Annual_Income'] = loan_data_clean['annual_inc'].apply(fn_GetAnualIncomeRange)\n",
    "\n",
    "# Creating a function to derive bucketing based dti\n",
    "def fn_GetDtiRange(iDti):\n",
    "    sDtiBucket = '10' # Variable to hold Bucket information\n",
    "    if iDti <= 4:\n",
    "        sDtiBucket   = '0'\n",
    "    elif  iDti > 4 and iDti <= 6:\n",
    "        sDtiBucket   = '1'\n",
    "    elif  iDti > 6 and iDti <= 8:\n",
    "        sDtiBucket   = '2'\n",
    "    elif  iDti > 8 and iDti <= 10:\n",
    "        sDtiBucket   = '3'\n",
    "    elif  iDti > 10 and iDti <= 12:\n",
    "        sDtiBucket   = '4'\n",
    "    elif  iDti > 12 and iDti <= 16:\n",
    "        sDtiBucket   = '5'\n",
    "    elif  iDti > 16 and iDti <= 18:\n",
    "        sDtiBucket   = '6'\n",
    "    elif  iDti > 18 and iDti <= 20:\n",
    "        sDtiBucket   = '7'\n",
    "    elif  iDti > 20 and iDti <= 22:\n",
    "        sDtiBucket   = '8'\n",
    "    elif  iDti > 22:\n",
    "        sDtiBucket   = '9'\n",
    "    return sDtiBucket \n",
    "\n",
    "# Add dti bucket column to DataFrame\n",
    "loan_data_clean['Bucket_dti'] = loan_data_clean['dti'].apply(fn_GetDtiRange)\n",
    "\n",
    "#Creating a function to derive bucketing based\n",
    "def fn_GetFundedAmountRange(iFunded):\n",
    "    sFundedBucket = '10' # Variable to hold Bucket information\n",
    "    if iFunded <= 2000:\n",
    "        sFundedBucket  = '0'\n",
    "    elif  iFunded > 2000 and iFunded <= 4000:\n",
    "        sFundedBucket  = '1'\n",
    "    elif  iFunded > 4000 and iFunded <= 6000:\n",
    "        sFundedBucket  = '2'\n",
    "    elif  iFunded > 6000 and iFunded <= 8000:\n",
    "        sFundedBucket  = '3'\n",
    "    elif  iFunded > 8000 and iFunded <= 10000:\n",
    "        sFundedBucket  = '4'\n",
    "    elif  iFunded > 10000 and iFunded <= 12000:\n",
    "        sFundedBucket  = '5'\n",
    "    elif  iFunded > 12000 and iFunded <= 14000:\n",
    "        sFundedBucket  = '6'\n",
    "    elif  iFunded > 14000 and iFunded <= 16000:\n",
    "        sFundedBucket  = '7'\n",
    "    elif  iFunded > 16000 and iFunded <= 22000:\n",
    "        sFundedBucket  = '8'\n",
    "    elif  iFunded > 22000:\n",
    "        sFundedBucket  = '9'     \n",
    "    return sFundedBucket\n",
    "\n",
    "# Add funded amount bucket column to DataFrame\n",
    "\n",
    "loan_data_clean['Bucket_Funded_Amount'] = loan_data_clean['funded_amnt'].apply(fn_GetFundedAmountRange)"
   ]
  },
  {
   "cell_type": "markdown",
   "metadata": {},
   "source": [
    "# Exploratory Data Analysis\n",
    "    ## Univariate Analysis\n",
    "    ## BiVariate Analysis"
   ]
  },
  {
   "cell_type": "markdown",
   "metadata": {},
   "source": [
    "### Univariate Analysis\n",
    "- Lets begin with analyzing relevant attributes one at a time and assess its impact on whether it results in loan defaulting or not"
   ]
  },
  {
   "cell_type": "code",
   "execution_count": 24,
   "metadata": {},
   "outputs": [
    {
     "data": {
      "text/plain": [
       "<matplotlib.axes._subplots.AxesSubplot at 0x25dc179e208>"
      ]
     },
     "execution_count": 24,
     "metadata": {},
     "output_type": "execute_result"
    },
    {
     "data": {
      "image/png": "[encoded data removed]",
      "text/plain": [
       "<Figure size 432x288 with 1 Axes>"
      ]
     },
     "metadata": {},
     "output_type": "display_data"
    }
   ],
   "source": [
    "#Lets first check the span of various loan status in the data\n",
    "sns.countplot(x='loan_status',data=loan_data_clean)"
   ]
  },
  {
   "cell_type": "code",
   "execution_count": 25,
   "metadata": {},
   "outputs": [
    {
     "data": {
      "image/png": "[encoded data removed]",
      "text/plain": [
       "<Figure size 432x288 with 1 Axes>"
      ]
     },
     "metadata": {},
     "output_type": "display_data"
    },
    {
     "data": {
      "image/png": "[encoded data removed]",
      "text/plain": [
       "<Figure size 432x288 with 1 Axes>"
      ]
     },
     "metadata": {},
     "output_type": "display_data"
    },
    {
     "data": {
      "image/png": "[encoded data removed]",
      "text/plain": [
       "<Figure size 432x288 with 1 Axes>"
      ]
     },
     "metadata": {},
     "output_type": "display_data"
    }
   ],
   "source": [
    "# Look at the distributions of Funded Amount, DTI, Annual Income\n",
    "plt.figure('Distributions')\n",
    "sns.distplot(loan_data_clean['funded_amnt'])\n",
    "plt.show()\n",
    "\n",
    "sns.distplot(loan_data_clean['loan_amnt'])#dti\n",
    "plt.show()\n",
    "\n",
    "sns.distplot(loan_data_clean['funded_amnt_inv'])#annual_inc\n",
    "plt.show()"
   ]
  },
  {
   "cell_type": "code",
   "execution_count": 26,
   "metadata": {},
   "outputs": [
    {
     "data": {
      "image/png": "[encoded data removed]",
      "text/plain": [
       "<Figure size 432x288 with 1 Axes>"
      ]
     },
     "metadata": {},
     "output_type": "display_data"
    }
   ],
   "source": [
    "# Analysing buckets of Purpose and getting the data for plotting\n",
    "by_purpose1 = loan_data_clean.pivot_table(values=['id'], index=['purpose', 'loan_status'], aggfunc='count')\n",
    "by_purpose2 = by_purpose1\n",
    "by_purpose3 = by_purpose2.pivot_table('id', ['purpose'], 'loan_status')\n",
    "by_purpose3['PctDefaultPurpose'] = by_purpose3['Charged Off'] / ( by_purpose3['Charged Off'] +  by_purpose3['Fully Paid']) * 100\n",
    "by_purpose3.reset_index(inplace = True) \n",
    "barPurpose = sns.barplot(x='purpose', y='PctDefaultPurpose', data=by_purpose3)\n",
    "barPurpose.set_xticklabels(by_purpose3['purpose'],rotation=90)\n",
    "plt.title(\"Defaulting Behaviour based on purpose\")\n",
    "plt.show()"
   ]
  },
  {
   "cell_type": "markdown",
   "metadata": {},
   "source": [
    "- Observation: There are few purposes for which percentage of default is slightly higher than average - for exampe - small_business, educational, renewable. "
   ]
  },
  {
   "cell_type": "code",
   "execution_count": 27,
   "metadata": {},
   "outputs": [
    {
     "data": {
      "image/png": "[encoded data removed]",
      "text/plain": [
       "<Figure size 432x288 with 1 Axes>"
      ]
     },
     "metadata": {},
     "output_type": "display_data"
    }
   ],
   "source": [
    "#Visualizing spread of dti values for various loan statuses\n",
    "plt.title(\"by dti\")\n",
    "sns.boxplot(x='loan_status', y='dti', data=loan_data_clean)\n",
    "plt.show()"
   ]
  },
  {
   "cell_type": "markdown",
   "metadata": {},
   "source": [
    "- As we see above, the median dti for Charged off loans is a bit higher than the Fully Paid loans. This means that borrowers with higher dti (more debts) are slightly more leaned towards Defaulting."
   ]
  },
  {
   "cell_type": "code",
   "execution_count": 28,
   "metadata": {
    "scrolled": true
   },
   "outputs": [
    {
     "data": {
      "image/png": "[encoded data removed]",
      "text/plain": [
       "<Figure size 432x288 with 1 Axes>"
      ]
     },
     "metadata": {},
     "output_type": "display_data"
    }
   ],
   "source": [
    "# Analysing buckets of dti and getting the data for plotting\n",
    "by_dti1 = loan_data_clean.pivot_table(values=['id'], index=['Bucket_dti', 'loan_status'], aggfunc='count')\n",
    "by_dti2 = by_dti1\n",
    "by_dti3 = by_dti2.pivot_table('id', ['Bucket_dti'], 'loan_status')\n",
    "by_dti3\n",
    "\n",
    "by_dti3['PctDefaultDti'] = by_dti3['Charged Off'] / ( by_dti3['Charged Off'] +  by_dti3['Fully Paid']) * 100\n",
    "by_dti3\n",
    "by_dti3.reset_index(inplace = True) \n",
    "\n",
    "sns.barplot(x='Bucket_dti', y='PctDefaultDti', data=by_dti3)\n",
    "plt.title(\"Defaulting Behaviour based on dti (Debt to Income ratio)\")\n",
    "plt.show()"
   ]
  },
  {
   "cell_type": "markdown",
   "metadata": {},
   "source": [
    "- Observation: As dti increases, percentage of default cases (or amounts) increases"
   ]
  },
  {
   "cell_type": "code",
   "execution_count": 29,
   "metadata": {},
   "outputs": [
    {
     "data": {
      "image/png": "[encoded data removed]",
      "text/plain": [
       "<Figure size 432x288 with 1 Axes>"
      ]
     },
     "metadata": {},
     "output_type": "display_data"
    }
   ],
   "source": [
    "#Analyzing influence of annual income on loan Defaults \n",
    "plt.title(\"by annual_inc\")\n",
    "sns.boxplot(x='loan_status', y='annual_inc', data=loan_data_clean)\n",
    "plt.show()"
   ]
  },
  {
   "cell_type": "code",
   "execution_count": 30,
   "metadata": {},
   "outputs": [
    {
     "data": {
      "image/png": "[encoded data removed]",
      "text/plain": [
       "<Figure size 432x288 with 1 Axes>"
      ]
     },
     "metadata": {},
     "output_type": "display_data"
    }
   ],
   "source": [
    "#Since the above Data has lot of outliers, visualizing with more appropriate income range\n",
    "plt.title(\"by annual_inc\")\n",
    "sns.boxplot(x='loan_status', y='annual_inc', data=loan_data_clean.loc[loan_data_clean.annual_inc<=80000])\n",
    "plt.show()"
   ]
  },
  {
   "cell_type": "markdown",
   "metadata": {},
   "source": [
    "- As we see above, the median annual inc for Fully Paid is slightly higher than the Charged off loans. So annual income could probably be an indicator for a loan being Defaulted. Lets analyze this a bit more"
   ]
  },
  {
   "cell_type": "markdown",
   "metadata": {},
   "source": [
    "  "
   ]
  },
  {
   "cell_type": "code",
   "execution_count": 31,
   "metadata": {},
   "outputs": [
    {
     "data": {
      "image/png": "[encoded data removed]",
      "text/plain": [
       "<Figure size 432x288 with 1 Axes>"
      ]
     },
     "metadata": {},
     "output_type": "display_data"
    }
   ],
   "source": [
    "# Analysing buckets of Annual Income and getting the data for plotting\n",
    "by_anninc1 = loan_data_clean.pivot_table(values=['id'], index=['Bucket_Annual_Income', 'loan_status'], aggfunc='count')\n",
    "by_anninc2 = by_anninc1\n",
    "by_anninc3 = by_anninc2.pivot_table('id', ['Bucket_Annual_Income'], 'loan_status')\n",
    "by_anninc3['PctDefaultAnnInc'] = by_anninc3['Charged Off'] / ( by_anninc3['Charged Off'] +  by_anninc3['Fully Paid']) * 100\n",
    "by_anninc3\n",
    "by_anninc3.reset_index(inplace = True) \n",
    "sns.barplot(x='Bucket_Annual_Income', y='PctDefaultAnnInc', data=by_anninc3)\n",
    "plt.title(\"Defaulting Behaviour based on Annual Income\")\n",
    "plt.show()"
   ]
  },
  {
   "cell_type": "markdown",
   "metadata": {},
   "source": [
    "- Observation: As Annual Income decreases, percentage of default cases (or amounts) increases"
   ]
  },
  {
   "cell_type": "code",
   "execution_count": 32,
   "metadata": {},
   "outputs": [
    {
     "data": {
      "image/png": "[encoded data removed]",
      "text/plain": [
       "<Figure size 432x288 with 1 Axes>"
      ]
     },
     "metadata": {},
     "output_type": "display_data"
    }
   ],
   "source": [
    "#Lets examine the spread od loan amount funded against various application loan status to assess if loan amount causes resulting in Defaulting\n",
    "plt.title(\"by funded_amount\")\n",
    "sns.boxplot(x='loan_status', y='funded_amnt', data=loan_data_clean.loc[loan_data_clean.funded_amnt<30000])\n",
    "plt.show()"
   ]
  },
  {
   "cell_type": "markdown",
   "metadata": {},
   "source": [
    "- The median amount for Fully Paid and Charged Off status is a little varying and could bean indicator influencing a loan to be Defaulted\n",
    "- Lets dig it a little deeper"
   ]
  },
  {
   "cell_type": "code",
   "execution_count": 33,
   "metadata": {},
   "outputs": [
    {
     "data": {
      "image/png": "[encoded data removed]",
      "text/plain": [
       "<Figure size 432x288 with 1 Axes>"
      ]
     },
     "metadata": {},
     "output_type": "display_data"
    }
   ],
   "source": [
    "# Analysing buckets of Funded Amount and getting the data for plotting\n",
    "by_fundamt1 = loan_data_clean.pivot_table(values=['id'], index=['Bucket_Funded_Amount', 'loan_status'], aggfunc='count')\n",
    "by_fundamt2 = by_fundamt1\n",
    "by_fundamt3 = by_fundamt2.pivot_table('id', ['Bucket_Funded_Amount'], 'loan_status')\n",
    "by_fundamt3['PctDefaultFundAmt'] = by_fundamt3['Charged Off'] / ( by_fundamt3['Charged Off'] +  by_fundamt3['Fully Paid']) * 100\n",
    "by_fundamt3.reset_index(inplace = True) \n",
    "sns.barplot(x='Bucket_Funded_Amount', y='PctDefaultFundAmt', data=by_fundamt3)\n",
    "plt.title(\"Defaulting Behaviour based on Funded Amount\")\n",
    "plt.show()"
   ]
  },
  {
   "cell_type": "markdown",
   "metadata": {},
   "source": [
    "- Observation: As Funding Amount increases, percentage of default cases (or amounts) increases"
   ]
  },
  {
   "cell_type": "markdown",
   "metadata": {},
   "source": [
    "- Lets now see if the house ownership has any bearing with the Loan defaulting"
   ]
  },
  {
   "cell_type": "code",
   "execution_count": 34,
   "metadata": {},
   "outputs": [
    {
     "data": {
      "text/plain": [
       "<matplotlib.axes._subplots.AxesSubplot at 0x25dc40d8d68>"
      ]
     },
     "execution_count": 34,
     "metadata": {},
     "output_type": "execute_result"
    },
    {
     "data": {
      "image/png": "[encoded data removed]",
      "text/plain": [
       "<Figure size 432x288 with 1 Axes>"
      ]
     },
     "metadata": {},
     "output_type": "display_data"
    }
   ],
   "source": [
    "#Analyzing the variation by home ownership of the loan applicant\n",
    "\n",
    "by_home_ownership = loan_data_clean.groupby(['home_ownership','loan_status']).agg({'id':'count'})\n",
    "\n",
    "by_home_ownership_pcts = by_home_ownership.groupby(level=0).apply(lambda x:100 * x / float(x.sum())).reset_index().rename_axis(None, axis=1)\n",
    "by_home_ownership_pcts.rename(columns={'id':'percent'},inplace=True)\n",
    "by_home_ownership_pcts\n",
    "sns.barplot(x='home_ownership',hue='loan_status',data=by_home_ownership_pcts,y='percent')"
   ]
  },
  {
   "cell_type": "markdown",
   "metadata": {},
   "source": [
    "- Home ownership doesn't seem to be revealing any strong association with defaulting"
   ]
  },
  {
   "cell_type": "markdown",
   "metadata": {},
   "source": [
    "- Lets do a similar analysis on Employment length"
   ]
  },
  {
   "cell_type": "code",
   "execution_count": 35,
   "metadata": {},
   "outputs": [
    {
     "data": {
      "image/png": "[encoded data removed]",
      "text/plain": [
       "<Figure size 432x288 with 1 Axes>"
      ]
     },
     "metadata": {},
     "output_type": "display_data"
    }
   ],
   "source": [
    "# Analysing buckets of Employment Length and getting the data for plotting\n",
    "by_emp_length1 = loan_data_clean.pivot_table(values=['funded_amnt'], index=['emp_length', 'loan_status'], aggfunc='sum')\n",
    "by_emp_length2 = by_emp_length1\n",
    "by_emp_length3 = by_emp_length2.pivot_table('funded_amnt', ['emp_length'], 'loan_status')\n",
    "by_emp_length3['PctDefaultEmpLength'] = by_emp_length3['Charged Off'] / ( by_emp_length3['Charged Off'] +  by_emp_length3['Fully Paid']) * 100\n",
    "by_emp_length3\n",
    "by_emp_length3.reset_index(inplace = True) \n",
    "barEmpLength = sns.barplot(x='emp_length', y='PctDefaultEmpLength', data=by_emp_length3)\n",
    "barEmpLength.set_xticklabels(by_emp_length3['emp_length'],rotation=90)\n",
    "plt.title(\"Defaulting Behaviour based on Employment Length\")\n",
    "plt.show()\n"
   ]
  },
  {
   "cell_type": "markdown",
   "metadata": {},
   "source": [
    "- Observation: there is no strong relationship/pattern between emp_length and loan Defaults. So this doesn't seem to be any influencing factor"
   ]
  },
  {
   "cell_type": "markdown",
   "metadata": {},
   "source": [
    "- Lets also check whether the state of loan applicant also has a bearing with defaulting. Lets say that states where more than 15% loans are defaulted should be reconsidered when approving newer loans\n"
   ]
  },
  {
   "cell_type": "code",
   "execution_count": 36,
   "metadata": {},
   "outputs": [
    {
     "data": {
      "text/plain": [
       "<matplotlib.axes._subplots.AxesSubplot at 0x25dc46e41d0>"
      ]
     },
     "execution_count": 36,
     "metadata": {},
     "output_type": "execute_result"
    },
    {
     "data": {
      "image/png": "[encoded data removed]",
      "text/plain": [
       "<Figure size 720x360 with 1 Axes>"
      ]
     },
     "metadata": {},
     "output_type": "display_data"
    }
   ],
   "source": [
    "\n",
    "by_addr_state = loan_data_clean.groupby(['addr_state','loan_status']).agg({'id':'count'})\n",
    "\n",
    "by_addr_state_pcts = by_addr_state.groupby(level=0).apply(lambda x:100 * x / float(x.sum())).reset_index().rename_axis(None, axis=1)\n",
    "by_addr_state_pcts.rename(columns={'id':'percent'},inplace=True)\n",
    "states = by_addr_state_pcts.loc[(by_addr_state_pcts.percent<15) & (by_addr_state_pcts.loan_status=='Charged Off')].addr_state\n",
    "by_addr_state_pcts = by_addr_state_pcts.loc[~(by_addr_state_pcts.addr_state.isin(states))]\n",
    "#by_addr_state_pcts\n",
    "\n",
    "plt.figure(figsize=(10,5))\n",
    "sns.barplot(y='addr_state',hue='loan_status',data=by_addr_state_pcts.loc[(by_addr_state_pcts.loan_status!='Current')],x='percent')"
   ]
  },
  {
   "cell_type": "markdown",
   "metadata": {},
   "source": [
    "\n",
    "- So as we see, there are quite a few states (out of a total of 135 states) where the loan getting Defaulted are over 15%. So may be when sanctioning new loans, LC might review the loan application from that state more strictly and approve loan only if other influencing factors are well within the range\n"
   ]
  },
  {
   "cell_type": "markdown",
   "metadata": {},
   "source": [
    "- Influence of Interest Rate & Grade of the loan"
   ]
  },
  {
   "cell_type": "code",
   "execution_count": 37,
   "metadata": {},
   "outputs": [
    {
     "data": {
      "image/png": "[encoded data removed]",
      "text/plain": [
       "<Figure size 432x288 with 1 Axes>"
      ]
     },
     "metadata": {},
     "output_type": "display_data"
    }
   ],
   "source": [
    "#Spread of interest rates across various loan statuses\n",
    "plt.title(\"by int rate\")\n",
    "sns.boxplot(x='loan_status', y='int_rate', data=loan_data_clean)\n",
    "plt.show()"
   ]
  },
  {
   "cell_type": "markdown",
   "metadata": {},
   "source": [
    "- As we see above, the median interest rate for Charged off loans is a lot higher than the Fully Paid loans. This means that borrowers getting loans at a higher interest rate are likely to default as applicants have to pay higher amount. \n",
    "- Is Interest Rate related to grade?"
   ]
  },
  {
   "cell_type": "code",
   "execution_count": 38,
   "metadata": {},
   "outputs": [
    {
     "data": {
      "text/plain": [
       "grade\n",
       "A     7.352316\n",
       "B    11.029322\n",
       "C    13.547440\n",
       "D    15.711009\n",
       "E    17.706794\n",
       "F    19.741476\n",
       "G    21.398794\n",
       "Name: int_rate, dtype: float64"
      ]
     },
     "execution_count": 38,
     "metadata": {},
     "output_type": "execute_result"
    }
   ],
   "source": [
    "#Analyzing the variation by grade of the loan\n",
    "\n",
    "#help(pd.DataFrame.rename)\n",
    "loan_data_clean.groupby(['grade']).int_rate.mean()"
   ]
  },
  {
   "cell_type": "markdown",
   "metadata": {},
   "source": [
    "- Higher the grade, higher is the interest rate. So higher grade loans are more likely to be defaulted"
   ]
  },
  {
   "cell_type": "code",
   "execution_count": 39,
   "metadata": {},
   "outputs": [
    {
     "data": {
      "image/png": "[encoded data removed]",
      "text/plain": [
       "<Figure size 432x288 with 1 Axes>"
      ]
     },
     "metadata": {},
     "output_type": "display_data"
    }
   ],
   "source": [
    "# Analysing buckets of Annual income and Grade getting the data for plotting\n",
    "by_gradex1 = loan_data_clean.pivot_table(values=['funded_amnt'], index=['Bucket_Annual_Income', 'grade', 'loan_status'], aggfunc='sum')\n",
    "by_gradex2 = by_gradex1\n",
    "by_gradex3 = by_gradex2.pivot_table('funded_amnt', ['Bucket_Annual_Income'], ['loan_status', 'grade'])\n",
    "by_gradex3['PctA'] = by_gradex3['Charged Off', 'A'] / ( by_gradex3['Charged Off', 'A'] +  by_gradex3['Fully Paid', 'A']) * 100\n",
    "by_gradex3['PctB'] = by_gradex3['Charged Off', 'B'] / ( by_gradex3['Charged Off', 'B'] +  by_gradex3['Fully Paid', 'B']) * 100\n",
    "by_gradex3['PctC'] = by_gradex3['Charged Off', 'C'] / ( by_gradex3['Charged Off', 'C'] +  by_gradex3['Fully Paid', 'C']) * 100\n",
    "by_gradex3['PctD'] = by_gradex3['Charged Off', 'D'] / ( by_gradex3['Charged Off', 'D'] +  by_gradex3['Fully Paid', 'D']) * 100\n",
    "by_gradex3['PctE'] = by_gradex3['Charged Off', 'E'] / ( by_gradex3['Charged Off', 'E'] +  by_gradex3['Fully Paid', 'E']) * 100\n",
    "by_gradex3['PctF'] = by_gradex3['Charged Off', 'F'] / ( by_gradex3['Charged Off', 'F'] +  by_gradex3['Fully Paid', 'F']) * 100\n",
    "by_gradex3['PctG'] = by_gradex3['Charged Off', 'G'] / ( by_gradex3['Charged Off', 'G'] +  by_gradex3['Fully Paid', 'G']) * 100\n",
    "by_gradex3\n",
    "by_gradex3.reset_index(inplace = True) \n",
    "# Defaulting behaviour over income groupe for Grade A\n",
    "sns.barplot(x='Bucket_Annual_Income', y='PctA', data=by_gradex3)\n",
    "plt.title(\"Defaulting Behaviour for Grade A per Income group\")\n",
    "plt.show()"
   ]
  },
  {
   "cell_type": "markdown",
   "metadata": {},
   "source": [
    "### Bivariate Analysis - Grade and Income Group"
   ]
  },
  {
   "cell_type": "code",
   "execution_count": 40,
   "metadata": {},
   "outputs": [
    {
     "data": {
      "image/png": "[encoded data removed]",
      "text/plain": [
       "<Figure size 720x432 with 1 Axes>"
      ]
     },
     "metadata": {},
     "output_type": "display_data"
    }
   ],
   "source": [
    "# Defaulting behaviour for various Income Groups per loan Grade\n",
    "x = by_gradex3.index.tolist()\n",
    "a = list(by_gradex3['PctA'])\n",
    "b = list(by_gradex3['PctB'])\n",
    "c = list(by_gradex3['PctC'])\n",
    "d = list(by_gradex3['PctD'])\n",
    "e = list(by_gradex3['PctE'])\n",
    "f = list(by_gradex3['PctF'])\n",
    "g = list(by_gradex3['PctG'])\n",
    "#sns.distplot(uberdf['Cancelled'])\n",
    "plt.figure(figsize=(10,6))\n",
    "plt.plot(x, a, 'r-', x, b, 'g-', x, c, 'b-', x, d, 'r^', x, e, 'g^', x, f, 'b^', x, g, 'r+')\n",
    "plt.xlabel(\"Annual Income\")\n",
    "plt.ylabel(\"% Of Default\")\n",
    "plt.title(\"Defaulting Behaviour across various Grade per Income group\")\n",
    "plt.legend(['a','b','c','d','e','f','g'])\n",
    "plt.show() \n"
   ]
  },
  {
   "cell_type": "markdown",
   "metadata": {},
   "source": [
    "#### Observation \n",
    "- We can see from the above plot that for Grade E, F, G, likelihood of default increases drastially in lower income groups.\n",
    "- As the loan grade goes up, chances of defaults go high as higher loan grade implies higher interest rate\n",
    "- From this we can suggest business to not take high risk with multiple drivers (Annual Income, DTI, Funded Amount, Purpose, Grade) ."
   ]
  },
  {
   "cell_type": "markdown",
   "metadata": {},
   "source": [
    "### Observation Bivariate Analysis - Grade and DTI Group"
   ]
  },
  {
   "cell_type": "code",
   "execution_count": 41,
   "metadata": {},
   "outputs": [],
   "source": [
    "# Analysing buckets of dti and Grade getting the data for plotting\n",
    "by_gradey1 = loan_data_clean.pivot_table(values=['funded_amnt'], index=['Bucket_dti', 'grade', 'loan_status'], aggfunc='sum')\n",
    "by_gradey2 = by_gradey1\n",
    "by_gradey3 = by_gradey2.pivot_table('funded_amnt', ['Bucket_dti'], ['loan_status', 'grade'])\n",
    "by_gradey3['PctA'] = by_gradey3['Charged Off', 'A'] / ( by_gradey3['Charged Off', 'A'] +  by_gradey3['Fully Paid', 'A']) * 100\n",
    "by_gradey3['PctB'] = by_gradey3['Charged Off', 'B'] / ( by_gradey3['Charged Off', 'B'] +  by_gradey3['Fully Paid', 'B']) * 100\n",
    "by_gradey3['PctC'] = by_gradey3['Charged Off', 'C'] / ( by_gradey3['Charged Off', 'C'] +  by_gradey3['Fully Paid', 'C']) * 100\n",
    "by_gradey3['PctD'] = by_gradey3['Charged Off', 'D'] / ( by_gradey3['Charged Off', 'D'] +  by_gradey3['Fully Paid', 'D']) * 100\n",
    "by_gradey3['PctE'] = by_gradey3['Charged Off', 'E'] / ( by_gradey3['Charged Off', 'E'] +  by_gradey3['Fully Paid', 'E']) * 100\n",
    "by_gradey3['PctF'] = by_gradey3['Charged Off', 'F'] / ( by_gradey3['Charged Off', 'F'] +  by_gradey3['Fully Paid', 'F']) * 100\n",
    "by_gradey3['PctG'] = by_gradey3['Charged Off', 'G'] / ( by_gradey3['Charged Off', 'G'] +  by_gradey3['Fully Paid', 'G']) * 100\n",
    "by_gradey3\n",
    "by_gradey3.reset_index(inplace = True) "
   ]
  },
  {
   "cell_type": "code",
   "execution_count": 42,
   "metadata": {},
   "outputs": [
    {
     "data": {
      "image/png": "[encoded data removed]",
      "text/plain": [
       "<Figure size 720x432 with 1 Axes>"
      ]
     },
     "metadata": {},
     "output_type": "display_data"
    }
   ],
   "source": [
    "# Defaulting behaviour for various Income Groups per loan Grade\n",
    "x = by_gradey3.index.tolist()\n",
    "a = list(by_gradey3['PctA'])\n",
    "b = list(by_gradey3['PctB'])\n",
    "c = list(by_gradey3['PctC'])\n",
    "d = list(by_gradey3['PctD'])\n",
    "e = list(by_gradey3['PctE'])\n",
    "f = list(by_gradey3['PctF'])\n",
    "g = list(by_gradey3['PctG'])\n",
    "#sns.distplot(uberdf['Cancelled'])\n",
    "\n",
    "plt.figure(figsize=(10,6))\n",
    "#plt.plot(x, a, 'r-', x, b, 'g-', x, c, 'b-', x, d, 'r-', x, e, 'g-', x, f, 'b-', x, g, 'r-')\n",
    "plt.plot(x, a, 'r-', x, b, 'g-', x, c, 'b-', x, d, 'r^', x, e, 'g^', x, f, 'b^', x, g, 'r+')\n",
    "plt.xlabel(\"DTI\")\n",
    "plt.ylabel(\"% Of Default\")\n",
    "plt.title(\"Defaulting Behaviour across various Grade per DTI group\")\n",
    "plt.legend(['a','b','c','d','e','f','g'],loc='upper right')\n",
    "plt.show() "
   ]
  },
  {
   "cell_type": "markdown",
   "metadata": {},
   "source": [
    "### Obervation\n",
    "- We can see from the above plot that for Grade E, F, G; likelihood of default increases drastially in higher dti groups (it is around 30%).\n"
   ]
  },
  {
   "cell_type": "markdown",
   "metadata": {},
   "source": [
    "### Conclusion\n",
    "- From this we can suggest business to not take high risk with multiple drivers (Annual Income, DTI, Funded Amount, Purpose, Grade) ."
   ]
  },
  {
   "cell_type": "code",
   "execution_count": null,
   "metadata": {},
   "outputs": [],
   "source": []
  }
 ],
 "metadata": {
  "kernelspec": {
   "display_name": "Python 3",
   "language": "python",
   "name": "python3"
  },
  "language_info": {
   "codemirror_mode": {
    "name": "ipython",
    "version": 3
   },
   "file_extension": ".py",
   "mimetype": "text/x-python",
   "name": "python",
   "nbconvert_exporter": "python",
   "pygments_lexer": "ipython3",
   "version": "3.6.5"
  }
 },
 "nbformat": 4,
 "nbformat_minor": 2
}
